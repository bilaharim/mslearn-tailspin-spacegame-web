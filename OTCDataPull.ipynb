{
  "nbformat": 4,
  "nbformat_minor": 0,
  "metadata": {
    "colab": {
      "name": "OTCDataPull",
      "provenance": [],
      "authorship_tag": "ABX9TyMR1hukC8gz+lHaKQ8wsdB0",
      "include_colab_link": true
    },
    "kernelspec": {
      "name": "python3",
      "display_name": "Python 3"
    },
    "language_info": {
      "name": "python"
    }
  },
  "cells": [
    {
      "cell_type": "markdown",
      "metadata": {
        "id": "view-in-github",
        "colab_type": "text"
      },
      "source": [
        "<a href=\"https://colab.research.google.com/github/bilaharim/mslearn-tailspin-spacegame-web/blob/master/OTCDataPull.ipynb\" target=\"_parent\"><img src=\"https://colab.research.google.com/assets/colab-badge.svg\" alt=\"Open In Colab\"/></a>"
      ]
    },
    {
      "cell_type": "code",
      "metadata": {
        "colab": {
          "base_uri": "https://localhost:8080/"
        },
        "id": "WgLeGcSafMIS",
        "outputId": "49139604-125f-4149-98a1-e952a2f83c63"
      },
      "source": [
        "pip install yfinance"
      ],
      "execution_count": 3,
      "outputs": [
        {
          "output_type": "stream",
          "text": [
            "Collecting yfinance\n",
            "  Downloading https://files.pythonhosted.org/packages/a7/ee/315752b9ef281ba83c62aa7ec2e2074f85223da6e7e74efb4d3e11c0f510/yfinance-0.1.59.tar.gz\n",
            "Requirement already satisfied: pandas>=0.24 in /usr/local/lib/python3.7/dist-packages (from yfinance) (1.1.5)\n",
            "Requirement already satisfied: numpy>=1.15 in /usr/local/lib/python3.7/dist-packages (from yfinance) (1.19.5)\n",
            "Requirement already satisfied: requests>=2.20 in /usr/local/lib/python3.7/dist-packages (from yfinance) (2.23.0)\n",
            "Requirement already satisfied: multitasking>=0.0.7 in /usr/local/lib/python3.7/dist-packages (from yfinance) (0.0.9)\n",
            "Collecting lxml>=4.5.1\n",
            "\u001b[?25l  Downloading https://files.pythonhosted.org/packages/cf/4d/6537313bf58fe22b508f08cf3eb86b29b6f9edf68e00454224539421073b/lxml-4.6.3-cp37-cp37m-manylinux1_x86_64.whl (5.5MB)\n",
            "\u001b[K     |████████████████████████████████| 5.5MB 4.1MB/s \n",
            "\u001b[?25hRequirement already satisfied: pytz>=2017.2 in /usr/local/lib/python3.7/dist-packages (from pandas>=0.24->yfinance) (2018.9)\n",
            "Requirement already satisfied: python-dateutil>=2.7.3 in /usr/local/lib/python3.7/dist-packages (from pandas>=0.24->yfinance) (2.8.1)\n",
            "Requirement already satisfied: idna<3,>=2.5 in /usr/local/lib/python3.7/dist-packages (from requests>=2.20->yfinance) (2.10)\n",
            "Requirement already satisfied: chardet<4,>=3.0.2 in /usr/local/lib/python3.7/dist-packages (from requests>=2.20->yfinance) (3.0.4)\n",
            "Requirement already satisfied: urllib3!=1.25.0,!=1.25.1,<1.26,>=1.21.1 in /usr/local/lib/python3.7/dist-packages (from requests>=2.20->yfinance) (1.24.3)\n",
            "Requirement already satisfied: certifi>=2017.4.17 in /usr/local/lib/python3.7/dist-packages (from requests>=2.20->yfinance) (2020.12.5)\n",
            "Requirement already satisfied: six>=1.5 in /usr/local/lib/python3.7/dist-packages (from python-dateutil>=2.7.3->pandas>=0.24->yfinance) (1.15.0)\n",
            "Building wheels for collected packages: yfinance\n",
            "  Building wheel for yfinance (setup.py) ... \u001b[?25l\u001b[?25hdone\n",
            "  Created wheel for yfinance: filename=yfinance-0.1.59-py2.py3-none-any.whl size=23442 sha256=c02554fd0b4c2a074f340ce0a62922411a4b3b5f0f66729ee031779a0105e6bd\n",
            "  Stored in directory: /root/.cache/pip/wheels/f8/2a/0f/4b5a86e1d52e451757eb6bc17fd899629f0925c777741b6d04\n",
            "Successfully built yfinance\n",
            "Installing collected packages: lxml, yfinance\n",
            "  Found existing installation: lxml 4.2.6\n",
            "    Uninstalling lxml-4.2.6:\n",
            "      Successfully uninstalled lxml-4.2.6\n",
            "Successfully installed lxml-4.6.3 yfinance-0.1.59\n"
          ],
          "name": "stdout"
        }
      ]
    },
    {
      "cell_type": "code",
      "metadata": {
        "id": "jiqsDABcfons"
      },
      "source": [
        "import pandas as pd\n",
        "import yfinance as yf\n",
        "import datetime\n",
        "import time\n",
        "import requests\n",
        "import io\n",
        "from google.colab import files "
      ],
      "execution_count": 8,
      "outputs": []
    },
    {
      "cell_type": "code",
      "metadata": {
        "colab": {
          "resources": {
            "http://localhost:8080/nbextensions/google.colab/files.js": {
              "data": "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",
              "ok": true,
              "headers": [
                [
                  "content-type",
                  "application/javascript"
                ]
              ],
              "status": 200,
              "status_text": ""
            }
          },
          "base_uri": "https://localhost:8080/",
          "height": 73
        },
        "id": "djhVp6e5fqX7",
        "outputId": "5a6fe194-eb8b-47e5-bdce-182aa865a861"
      },
      "source": [
        "uploaded=files.upload()"
      ],
      "execution_count": 13,
      "outputs": [
        {
          "output_type": "display_data",
          "data": {
            "text/html": [
              "\n",
              "     <input type=\"file\" id=\"files-d5324a0e-21d2-44cf-8b8a-4368458344a2\" name=\"files[]\" multiple disabled\n",
              "        style=\"border:none\" />\n",
              "     <output id=\"result-d5324a0e-21d2-44cf-8b8a-4368458344a2\">\n",
              "      Upload widget is only available when the cell has been executed in the\n",
              "      current browser session. Please rerun this cell to enable.\n",
              "      </output>\n",
              "      <script src=\"/nbextensions/google.colab/files.js\"></script> "
            ],
            "text/plain": [
              "<IPython.core.display.HTML object>"
            ]
          },
          "metadata": {
            "tags": []
          }
        },
        {
          "output_type": "stream",
          "text": [
            "Saving List of US OTC Stocks.csv to List of US OTC Stocks (1).csv\n"
          ],
          "name": "stdout"
        }
      ]
    },
    {
      "cell_type": "code",
      "metadata": {
        "id": "kRFjjPhIh5J4"
      },
      "source": [
        "df=pd.read_csv(io.StringIO(uploaded[\"List of US OTC Stocks.csv\"].decode('utf-8')))"
      ],
      "execution_count": 15,
      "outputs": []
    },
    {
      "cell_type": "code",
      "metadata": {
        "id": "MiKsO_M0jbNv"
      },
      "source": [
        "Symbols = df['Symbol'].tolist()"
      ],
      "execution_count": 27,
      "outputs": []
    },
    {
      "cell_type": "code",
      "metadata": {
        "id": "KkMoTIjFjwo6"
      },
      "source": [
        "start = datetime.datetime(2020,2,1)\n",
        "end = datetime.datetime(2020,10,11)\n"
      ],
      "execution_count": 28,
      "outputs": []
    },
    {
      "cell_type": "code",
      "metadata": {
        "colab": {
          "base_uri": "https://localhost:8080/"
        },
        "id": "ZcH9DPHdkHBN",
        "outputId": "fbf2f4be-dea6-4053-c1a5-e69ea6f54732"
      },
      "source": [
        "\n",
        "# create empty dataframe\n",
        "stock_final = pd.DataFrame()\n",
        "# iterate over each symbol\n",
        "for i in Symbols:  \n",
        "    \n",
        "    # print the symbol which is being downloaded\n",
        "    print( str(Symbols.index(i)) + str(' : ') + i, sep=',', end=',', flush=True)  \n",
        "    \n",
        "    try:\n",
        "        # download the stock price \n",
        "        stock = []\n",
        "        stock = yf.download(i,start=start, end=end, progress=False)\n",
        "        \n",
        "        # append the individual stock prices \n",
        "        if len(stock) == 0:\n",
        "            None\n",
        "        else:\n",
        "            stock['Name']=i\n",
        "            stock_final = stock_final.append(stock,sort=False)\n",
        "    except Exception:\n",
        "        None"
      ],
      "execution_count": 32,
      "outputs": [
        {
          "output_type": "stream",
          "text": [
            "0 : GBTC,1 : LBRDB,2 : BATRB,3 : FWONB,4 : ETHE,5 : LTCN,6 : TSNP,\n",
            "1 Failed download:\n",
            "- TSNP: No data found, symbol may be delisted\n",
            "7 : FNMA,8 : CYDY,9 : CSVI,10 : FMCC,11 : NWBO,12 : INVU,13 : FMBL,14 : WTBFB,15 : BCHG,16 : ABML,\n",
            "1 Failed download:\n",
            "- ABML: Data doesn't exist for startDate = 1580515200, endDate = 1602374400\n",
            "17 : FBAK,18 : LTNC,19 : TKCI,20 : SMLR,21 : FMCB,22 : GDLC,23 : BAYP,24 : WNDW,25 : LICT,26 : NASB,27 : NLST,28 : ASTI,29 : OTCM,30 : HCMC,31 : AABB,32 : KCLI,33 : ENZC,34 : ALPP,\n",
            "1 Failed download:\n",
            "- ALPP: Data doesn't exist for startDate = 1580515200, endDate = 1602374400\n",
            "35 : OZSC,36 : KAVL,\n",
            "1 Failed download:\n",
            "- KAVL: Data doesn't exist for startDate = 1580515200, endDate = 1602374400\n",
            "37 : GTXMQ,38 : GTII,39 : ETCG,40 : HYSR,41 : DBIN,42 : FNGR,43 : CRSS,44 : AMBZ,45 : SHMP,\n",
            "1 Failed download:\n",
            "- SHMP: Data doesn't exist for startDate = 1580515200, endDate = 1602374400\n",
            "46 : BIIO,\n",
            "1 Failed download:\n",
            "- BIIO: Data doesn't exist for startDate = 1580515200, endDate = 1602374400\n",
            "47 : BVHBB,48 : FFMR,49 : CSHX,50 : FNBT,51 : SUND,52 : BYRN,53 : HTZGQ,54 : AITX,55 : EWLU,56 : INLB,57 : TUEM,\n",
            "1 Failed download:\n",
            "- TUEM: Data doesn't exist for startDate = 1580515200, endDate = 1602374400\n",
            "58 : TGRF,59 : ALPIB,\n",
            "1 Failed download:\n",
            "- ALPIB: Data doesn't exist for startDate = 1580515200, endDate = 1602374400\n",
            "60 : BBLG,61 : GCEH,62 : JMSB,63 : MJNA,64 : KTYB,65 : TGAN,\n",
            "1 Failed download:\n",
            "- TGAN: Data doesn't exist for startDate = 1580515200, endDate = 1602374400\n",
            "66 : OPTI,67 : MRMD,68 : LDSN,69 : BMTM,70 : FCUV,\n",
            "1 Failed download:\n",
            "- FCUV: Data doesn't exist for startDate = 1580515200, endDate = 1602374400\n",
            "71 : NECB,72 : VIHD,73 : HLAN,74 : PMTS,75 : SIRC,76 : KULR,77 : QUBT,\n",
            "1 Failed download:\n",
            "- QUBT: Data doesn't exist for startDate = 1580515200, endDate = 1602374400\n",
            "78 : ISBA,79 : CFNB,80 : HLYK,\n",
            "1 Failed download:\n",
            "- HLYK: Data doesn't exist for startDate = 1580515200, endDate = 1602374400\n",
            "81 : HSBI,82 : KSHB,83 : INND,84 : SCTY,85 : FUST,86 : ACBM,\n",
            "1 Failed download:\n",
            "- ACBM: Data doesn't exist for startDate = 1580515200, endDate = 1602374400\n",
            "87 : CWGL,88 : LWLG,89 : SBKK,90 : MNAT,91 : TMRC,92 : MCBI,93 : LYBC,94 : FNRN,95 : MHGU,96 : IDTY,97 : GSTX,98 : DTRC,99 : BERK,100 : MBLU,101 : OCBI,102 : HQDA,103 : TJBH,104 : SLBG,\n",
            "1 Failed download:\n",
            "- SLBG: Data doesn't exist for startDate = 1580515200, endDate = 1602374400\n",
            "105 : KBLB,106 : CTGO,107 : PBAM,108 : LSYN,109 : BNCC,110 : ZNOG,111 : CFST,112 : PFLC,113 : VLLX,114 : AERG,\n",
            "1 Failed download:\n",
            "- AERG: Data doesn't exist for startDate = 1580515200, endDate = 1602374400\n",
            "115 : EMYB,116 : WDLF,117 : NUVR,118 : BFCC,119 : FORW,120 : HLIX,121 : ENBP,122 : PGTK,123 : CHBH,124 : CPKF,125 : NOBH,126 : FETM,127 : NTRB,128 : NEOV,\n",
            "1 Failed download:\n",
            "- NEOV: Data doesn't exist for startDate = 1580515200, endDate = 1602374400\n",
            "129 : CBBI,130 : RCAT,\n",
            "1 Failed download:\n",
            "- RCAT: Data doesn't exist for startDate = 1580515200, endDate = 1602374400\n",
            "131 : PSBQ,132 : EFSI,133 : SBEV,\n",
            "1 Failed download:\n",
            "- SBEV: No data found for this date range, symbol may be delisted\n",
            "134 : SHWZ,135 : SLNG,136 : CNBN,137 : AERO,138 : FNSB,139 : ABVC,\n",
            "1 Failed download:\n",
            "- ABVC: Data doesn't exist for startDate = 1580515200, endDate = 1602374400\n",
            "140 : GRRB,141 : COSO,142 : MPIR,143 : FRTT,\n",
            "1 Failed download:\n",
            "- FRTT: Data doesn't exist for startDate = 1580515200, endDate = 1602374400\n",
            "144 : UBAB,145 : MINM,146 : ALID,147 : ILUS,148 : RRIF,149 : CMTV,150 : ZEST,151 : BHWB,152 : COSM,153 : HWIN,\n",
            "1 Failed download:\n",
            "- HWIN: Data doesn't exist for startDate = 1580515200, endDate = 1602374400\n",
            "154 : MMMB,155 : TYFG,156 : BELP,\n",
            "1 Failed download:\n",
            "- BELP: Data doesn't exist for startDate = 1580515200, endDate = 1602374400\n",
            "157 : FIOGF,\n",
            "1 Failed download:\n",
            "- FIOGF: Data doesn't exist for startDate = 1580515200, endDate = 1602374400\n",
            "158 : BBXIA,159 : VPER,160 : FBTT,161 : TYCB,162 : CNCG,\n",
            "1 Failed download:\n",
            "- CNCG: Data doesn't exist for startDate = 1580515200, endDate = 1602374400\n",
            "163 : IPIX,164 : DSBX,165 : MFON,166 : NVOSD,\n",
            "1 Failed download:\n",
            "- NVOSD: No data found, symbol may be delisted\n",
            "167 : NSAV,168 : MODD,169 : SABK,170 : MOST,171 : IQST,172 : ADOM,173 : RPMT,174 : FMBM,175 : DXLG,176 : HARL,177 : ALYI,178 : UBNC,179 : NMTC,180 : LFGP,181 : PFBX,182 : SEGI,183 : LGIQ,184 : KISB,185 : MEEC,186 : PRKR,187 : LQMT,188 : NWYF,189 : BTCY,190 : IOTC,191 : CPTP,192 : MRZM,193 : FHBI,\n",
            "1 Failed download:\n",
            "- FHBI: Data doesn't exist for startDate = 1580515200, endDate = 1602374400\n",
            "194 : BTTR,\n",
            "1 Failed download:\n",
            "- BTTR: Data doesn't exist for startDate = 1580515200, endDate = 1602374400\n",
            "195 : MDXL,196 : STMH,\n",
            "1 Failed download:\n",
            "- STMH: Data doesn't exist for startDate = 1580515200, endDate = 1602374400\n",
            "197 : TRVR,198 : ODYY,\n",
            "1 Failed download:\n",
            "- ODYY: Data doesn't exist for startDate = 1580515200, endDate = 1602374400\n",
            "199 : WBBW,200 : EACO,201 : CYTR,202 : GLXZ,203 : PBNC,\n",
            "1 Failed download:\n",
            "- PBNC: Data doesn't exist for startDate = 1580515200, endDate = 1602374400\n",
            "204 : JDVB,205 : JFBC,206 : AXIM,207 : DMKBA,208 : SNWV,209 : SOBR,\n",
            "1 Failed download:\n",
            "- SOBR: Data doesn't exist for startDate = 1580515200, endDate = 1602374400\n",
            "210 : VKIND,211 : FDVA,212 : BASA,213 : CNIG,214 : KTHN,215 : CCGN,216 : CWRK,\n",
            "1 Failed download:\n",
            "- CWRK: Data doesn't exist for startDate = 1580515200, endDate = 1602374400\n",
            "217 : ARHH,218 : PBNK,219 : PETV,220 : INKW,221 : LONE,\n",
            "1 Failed download:\n",
            "- LONE: Data doesn't exist for startDate = 1580515200, endDate = 1602374400\n",
            "222 : SSFT,223 : PKKW,224 : UNIB,225 : FGNV,226 : CATV,227 : RKFL,228 : TRTC,229 : AZFL,230 : PMHG,231 : GPFT,\n",
            "1 Failed download:\n",
            "- GPFT: Data doesn't exist for startDate = 1580515200, endDate = 1602374400\n",
            "232 : PLBN,233 : INBC,\n",
            "1 Failed download:\n",
            "- INBC: Data doesn't exist for startDate = 1580515200, endDate = 1602374400\n",
            "234 : BRFH,235 : BEBE,236 : CGLO,237 : MCVT,238 : CAPC,239 : SOTK,240 : FACO,241 : KNWN,242 : PVDG,243 : ICBU,244 : EMMA,245 : IPSI,246 : PHIL,247 : STCB,\n",
            "1 Failed download:\n",
            "- STCB: Data doesn't exist for startDate = 1580515200, endDate = 1602374400\n",
            "248 : WCRS,249 : BUDZ,250 : NANX,251 : WAYN,252 : SING,253 : CBKM,254 : AQSP,255 : PKTX,256 : WRIV,257 : BNET,258 : PPBN,259 : PURE,260 : UNIF,261 : NIDB,262 : CBAF,263 : GTLL,264 : MITI,265 : BOMH,\n",
            "1 Failed download:\n",
            "- BOMH: Data doesn't exist for startDate = 1580515200, endDate = 1602374400\n",
            "266 : GRYN,267 : ATGN,268 : CBWA,269 : GAXY,270 : SFOR,271 : TRIQ,\n",
            "1 Failed download:\n",
            "- TRIQ: Data doesn't exist for startDate = 1580515200, endDate = 1602374400\n",
            "272 : ZIVO,273 : CNAF,274 : CTUY,275 : VIVC,276 : CTGL,277 : PTIX,\n",
            "1 Failed download:\n",
            "- PTIX: Data doesn't exist for startDate = 1580515200, endDate = 1602374400\n",
            "278 : CANN,279 : RXMD,280 : INIS,281 : ELTP,282 : CETY,283 : CURR,284 : BSFO,285 : MNMB,286 : GNRV,287 : BTCS,288 : INTV,289 : CCNB,290 : RYFL,291 : BOID,292 : IBTN,293 : JETMF,\n",
            "1 Failed download:\n",
            "- JETMF: Data doesn't exist for startDate = 1580515200, endDate = 1602374400\n",
            "294 : BUKS,295 : MMEX,296 : NDVN,\n",
            "1 Failed download:\n",
            "- NDVN: Data doesn't exist for startDate = 1580515200, endDate = 1602374400\n",
            "297 : MACE,298 : OTTW,299 : BLGO,300 : CVSI,301 : BTSC,302 : SVBT,\n",
            "1 Failed download:\n",
            "- SVBT: Data doesn't exist for startDate = 1580515200, endDate = 1602374400\n",
            "303 : LBSI,304 : SKYE,305 : IEHC,306 : ENZN,307 : HCBC,308 : SANP,309 : HMMR,310 : CLCS,\n",
            "1 Failed download:\n",
            "- CLCS: Data doesn't exist for startDate = 1580515200, endDate = 1602374400\n",
            "311 : STBI,312 : TGEN,313 : OMQS,314 : CCTL,315 : EMPR,316 : RSTN,\n",
            "1 Failed download:\n",
            "- RSTN: Data doesn't exist for startDate = 1580515200, endDate = 1602374400\n",
            "317 : PPHI,318 : MVLY,319 : PSBP,320 : BRLL,321 : NJMC,322 : ODII,\n",
            "1 Failed download:\n",
            "- ODII: Data doesn't exist for startDate = 1580515200, endDate = 1602374400\n",
            "323 : DPSI,324 : WARM,325 : BCTF,326 : TPCS,327 : GRMM,328 : ETFM,\n",
            "1 Failed download:\n",
            "- ETFM: No data found for this date range, symbol may be delisted\n",
            "329 : VPLM,330 : SHRG,\n",
            "1 Failed download:\n",
            "- SHRG: Data doesn't exist for startDate = 1580515200, endDate = 1602374400\n",
            "331 : IAIC,332 : LUMB,\n",
            "1 Failed download:\n",
            "- LUMB: Data doesn't exist for startDate = 1580515200, endDate = 1602374400\n",
            "333 : TURV,334 : PMCB,335 : EQFN,336 : NGTF,337 : NUMD,338 : ARTNB,339 : SNPX,\n",
            "1 Failed download:\n",
            "- SNPX: Data doesn't exist for startDate = 1580515200, endDate = 1602374400\n",
            "340 : ASDND,341 : GLGI,342 : TRNF,\n",
            "1 Failed download:\n",
            "- TRNF: Data doesn't exist for startDate = 1580515200, endDate = 1602374400\n",
            "343 : QNTO,344 : LTUM,345 : BFCH,346 : OSBK,347 : JSDA,348 : CRMZ,349 : MCOA,350 : CTAM,351 : CRTG,352 : GNBT,353 : MGTI,354 : INBP,355 : HPNN,356 : LGCP,\n",
            "1 Failed download:\n",
            "- LGCP: Data doesn't exist for startDate = 1580515200, endDate = 1602374400\n",
            "357 : SCND,358 : SUME,359 : EAWD,360 : HRTH,361 : FALC,362 : RGRX,363 : GRWC,364 : ILAL,\n",
            "1 Failed download:\n",
            "- ILAL: Data doesn't exist for startDate = 1580515200, endDate = 1602374400\n",
            "365 : PHCG,\n",
            "1 Failed download:\n",
            "- PHCG: Data doesn't exist for startDate = 1580515200, endDate = 1602374400\n",
            "366 : MNBP,367 : INFT,\n",
            "1 Failed download:\n",
            "- INFT: Data doesn't exist for startDate = 1580515200, endDate = 1602374400\n",
            "368 : RDGL,369 : QGSI,370 : DFCO,\n",
            "1 Failed download:\n",
            "- DFCO: Data doesn't exist for startDate = 1580515200, endDate = 1602374400\n",
            "371 : CRVW,372 : PBSV,373 : SURG,374 : EFBI,375 : FBPA,376 : BSRC,377 : CYSM,378 : CIBH,379 : PVCT,380 : CNBX,381 : VYST,382 : PUBC,383 : FGCO,\n",
            "1 Failed download:\n",
            "- FGCO: Data doesn't exist for startDate = 1580515200, endDate = 1602374400\n",
            "384 : GTEH,385 : ACAN,386 : FRSB,387 : DTST,388 : OPVS,389 : ESOA,390 : NUGS,391 : CLSH,392 : ALRT,393 : DVCR,394 : RSLS,395 : SIMP,\n",
            "1 Failed download:\n",
            "- SIMP: Data doesn't exist for startDate = 1580515200, endDate = 1602374400\n",
            "396 : SENR,397 : BRSF,\n",
            "1 Failed download:\n",
            "- BRSF: Data doesn't exist for startDate = 1580515200, endDate = 1602374400\n",
            "398 : XDSL,399 : WDDD,400 : CCUR,401 : TAUG,402 : MJHI,403 : BWMG,404 : KALTF,405 : CLWD,406 : QBIO,407 : STLY,408 : KTEL,409 : INTI,410 : CPMV,\n",
            "1 Failed download:\n",
            "- CPMV: Data doesn't exist for startDate = 1580515200, endDate = 1602374400\n",
            "411 : ACFN,412 : MATN,413 : VTYB,414 : TLRS,415 : KGKG,416 : PEYE,417 : BLAB,418 : GJCU,\n",
            "1 Failed download:\n",
            "- GJCU: Data doesn't exist for startDate = 1580515200, endDate = 1602374400\n",
            "419 : SOWG,420 : ARTH,421 : BDGR,422 : RCRT,423 : PALT,424 : SILO,\n",
            "1 Failed download:\n",
            "- SILO: Data doesn't exist for startDate = 1580515200, endDate = 1602374400\n",
            "425 : BTIM,\n",
            "1 Failed download:\n",
            "- BTIM: Data doesn't exist for startDate = 1580515200, endDate = 1602374400\n",
            "426 : MOBQ,427 : PWVI,428 : BANT,429 : MHTX,430 : CBDS,431 : UNTN,432 : MNBO,433 : CLOK,434 : AGOL,\n",
            "1 Failed download:\n",
            "- AGOL: No data found for this date range, symbol may be delisted\n",
            "435 : DCSX,\n",
            "1 Failed download:\n",
            "- DCSX: Data doesn't exist for startDate = 1580515200, endDate = 1602374400\n",
            "436 : CBTC,437 : OSAT,438 : ALDS,439 : WINR,440 : IWSY,441 : STHI,442 : DTGI,443 : TPTW,444 : GSPE,445 : GLNS,446 : QMCI,447 : PWCO,448 : MDCN,449 : SYTE,\n",
            "1 Failed download:\n",
            "- SYTE: Data doesn't exist for startDate = 1580515200, endDate = 1602374400\n",
            "450 : TMBXF,451 : FDCT,\n",
            "1 Failed download:\n",
            "- FDCT: Data doesn't exist for startDate = 1580515200, endDate = 1602374400\n",
            "452 : RVIV,453 : ALTD,454 : SMDM,455 : UCLE,\n",
            "1 Failed download:\n",
            "- UCLE: Data doesn't exist for startDate = 1580515200, endDate = 1602374400\n",
            "456 : GRCK,457 : BICX,458 : ONVC,459 : DYNR,460 : OPXS,461 : ALBY,462 : CMXC,463 : ALKM,464 : TRCK,465 : KITL,466 : ICCT,467 : EXDI,468 : BMNM,469 : BTHE,470 : GBLX,471 : PFHO,472 : OWPC,473 : SGMD,474 : AMMJ,475 : RMHB,476 : TBTC,477 : SRNA,478 : IVFH,479 : TOFB,480 : KOAN,481 : ADMQ,482 : JKSM,483 : ATVK,484 : AMIH,485 : SCIA,486 : QRON,487 : LBUY,488 : ROYE,489 : NPTX,\n",
            "1 Failed download:\n",
            "- NPTX: No data found for this date range, symbol may be delisted\n",
            "490 : TIKK,491 : EWLL,\n",
            "1 Failed download:\n",
            "- EWLL: Data doesn't exist for startDate = 1580515200, endDate = 1602374400\n",
            "492 : FSSN,493 : INLX,494 : ALPE,495 : LUVU,496 : CNFN,497 : ADMT,498 : KBPH,499 : TSSI,500 : SMME,501 : NRIS,502 : CWPE,\n",
            "1 Failed download:\n",
            "- CWPE: Data doesn't exist for startDate = 1580515200, endDate = 1602374400\n",
            "503 : GIGA,504 : IONI,505 : IGEN,506 : MICR,\n",
            "1 Failed download:\n",
            "- MICR: Data doesn't exist for startDate = 1580515200, endDate = 1602374400\n",
            "507 : QSAM,508 : PBIO,509 : THMG,510 : KWBT,511 : MYHI,512 : IVDN,513 : CVAT,514 : VFRM,515 : CNSC,\n",
            "1 Failed download:\n",
            "- CNSC: Data doesn't exist for startDate = 1580515200, endDate = 1602374400\n",
            "516 : BSTG,517 : DPWW,518 : TCNB,519 : DPDW,520 : SUGR,521 : GTHP,\n",
            "1 Failed download:\n",
            "- GTHP: Data doesn't exist for startDate = 1580515200, endDate = 1602374400\n",
            "522 : AMMX,\n",
            "1 Failed download:\n",
            "- AMMX: Data doesn't exist for startDate = 1580515200, endDate = 1602374400\n",
            "523 : EFSH,\n",
            "1 Failed download:\n",
            "- EFSH: Data doesn't exist for startDate = 1580515200, endDate = 1602374400\n",
            "524 : PGOL,525 : EXEO,526 : WIZD,527 : ACUR,528 : NROM,529 : GWTI,530 : VYND,531 : MMND,532 : BLEG,\n",
            "1 Failed download:\n",
            "- BLEG: Data doesn't exist for startDate = 1580515200, endDate = 1602374400\n",
            "533 : HPTO,534 : NBIO,535 : QPRC,536 : PHOT,\n",
            "1 Failed download:\n",
            "- PHOT: Data doesn't exist for startDate = 1580515200, endDate = 1602374400\n",
            "537 : CANB,538 : NXEN,539 : YEWB,540 : MAGE,541 : FWAV,\n",
            "1 Failed download:\n",
            "- FWAV: No data found for this date range, symbol may be delisted\n",
            "542 : SMKC,543 : PRIEF,544 : VTLR,545 : AMHG,\n",
            "1 Failed download:\n",
            "- AMHG: Data doesn't exist for startDate = 1580515200, endDate = 1602374400\n",
            "546 : HCYT,547 : ABMT,548 : QSEP,549 : SBSAA,550 : UCASU,551 : TCCO,552 : BSPK,553 : RIII,\n",
            "1 Failed download:\n",
            "- RIII: No data found for this date range, symbol may be delisted\n",
            "554 : ICNB,\n",
            "1 Failed download:\n",
            "- ICNB: Data doesn't exist for startDate = 1580515200, endDate = 1602374400\n",
            "555 : ZDPY,556 : KAYS,557 : BDCO,558 : ROYL,559 : UMHL,560 : FNAM,561 : CRBO,562 : BEGI,563 : WCUI,564 : AMTY,565 : NAUH,566 : NWYU,567 : AHNR,568 : FIFG,569 : LIVC,570 : BABB,571 : TRNX,572 : HGTXU,573 : UNIR,574 : TGHI,575 : FLES,\n",
            "1 Failed download:\n",
            "- FLES: Data doesn't exist for startDate = 1580515200, endDate = 1602374400\n",
            "576 : AREB,577 : GLAE,578 : SRGZ,579 : SGSI,580 : VYCO,581 : ATMS,582 : RELT,583 : USAQ,584 : ISCO,585 : EMED,\n",
            "1 Failed download:\n",
            "- EMED: Data doesn't exist for startDate = 1580515200, endDate = 1602374400\n",
            "586 : CPWR,587 : ADGO,588 : SCON,589 : ANDR,590 : TKOI,591 : MSTO,592 : AMCT,593 : AMAZ,594 : GCAN,595 : SMGI,596 : GRLB,597 : BTLN,598 : AMNL,599 : LSMG,600 : SNYR,601 : RASP,602 : RGUS,603 : CCTC,604 : ABMC,605 : ESMC,606 : SPGX,607 : MNTR,608 : BASX,609 : RSPI,610 : PTOI,611 : CAPS,612 : CCOB,613 : DIGP,614 : WSCO,615 : SYSX,\n",
            "1 Failed download:\n",
            "- SYSX: Data doesn't exist for startDate = 1580515200, endDate = 1602374400\n",
            "616 : WTNW,617 : TIXC,618 : SKAS,619 : LFER,620 : SNVP,621 : OMTK,622 : PXFG,623 : GKIT,624 : IMII,\n",
            "1 Failed download:\n",
            "- IMII: No data found for this date range, symbol may be delisted\n",
            "625 : SPIN,626 : CLCN,627 : LEAI,628 : RLLY,629 : SCOO,630 : GNAL,631 : ELVG,632 : VRUS,633 : SYEV,634 : HWKE,\n",
            "1 Failed download:\n",
            "- HWKE: Data doesn't exist for startDate = 1580515200, endDate = 1602374400\n",
            "635 : DMKBB,636 : EQUR,637 : ENDV,638 : WSGF,639 : CIIX,640 : ETST,641 : TDNT,642 : BLXX,643 : CDXI,644 : FCIC,645 : ZMWYF,646 : NEIK,647 : PFTI,648 : ACCA,649 : EMRN,650 : GSPH,651 : FLSS,652 : ATRX,653 : GWSN,654 : JADG,655 : ASNB,656 : RHNO,657 : SYNE,658 : GMVP,659 : SKVI,660 : BASWW,\n",
            "1 Failed download:\n",
            "- BASWW: No data found for this date range, symbol may be delisted\n",
            "661 : GBFH,\n",
            "1 Failed download:\n",
            "- GBFH: Data doesn't exist for startDate = 1580515200, endDate = 1602374400\n",
            "662 : ANVI,\n",
            "1 Failed download:\n",
            "- ANVI: No data found, symbol may be delisted\n",
            "663 : GIPR,\n",
            "1 Failed download:\n",
            "- GIPR: No data found, symbol may be delisted\n",
            "664 : UNXP,\n",
            "1 Failed download:\n",
            "- UNXP: Data doesn't exist for startDate = 1580515200, endDate = 1602374400\n"
          ],
          "name": "stdout"
        }
      ]
    },
    {
      "cell_type": "code",
      "metadata": {
        "id": "PNMosJuXkHHm"
      },
      "source": [
        " stock_final.to_csv(\"OTCStock_dump.csv\")\n"
      ],
      "execution_count": 31,
      "outputs": []
    }
  ]
}